{
 "cells": [
  {
   "attachments": {},
   "cell_type": "markdown",
   "metadata": {
    "application/vnd.databricks.v1+cell": {
     "cellMetadata": {
      "byteLimit": 2048000,
      "rowLimit": 10000
     },
     "inputWidgets": {},
     "nuid": "1150ad03-d27d-41cd-9d3e-5d717b80a08e",
     "showTitle": false,
     "title": ""
    }
   },
   "source": [
    "## First we initialize our globals"
   ]
  },
  {
   "cell_type": "code",
   "execution_count": 20,
   "metadata": {},
   "outputs": [
    {
     "name": "stdout",
     "output_type": "stream",
     "text": [
      "The autoreload extension is already loaded. To reload it, use:\n",
      "  %reload_ext autoreload\n"
     ]
    }
   ],
   "source": [
    "%load_ext autoreload\n",
    "%autoreload 2"
   ]
  },
  {
   "cell_type": "code",
   "execution_count": 21,
   "metadata": {},
   "outputs": [],
   "source": [
    "# add project dir to python path\n",
    "try:\n",
    "    notebook_path = dbutils.notebook.entry_point.getDbutils().notebook().getContext().notebookPath().get()\n",
    "    import sys, os\n",
    "    sys.path.append(\"/Workspace\" + os.path.dirname(os.path.dirname(notebook_path)))\n",
    "except:\n",
    "    pass"
   ]
  },
  {
   "cell_type": "code",
   "execution_count": 22,
   "metadata": {
    "application/vnd.databricks.v1+cell": {
     "cellMetadata": {
      "byteLimit": 2048000,
      "rowLimit": 10000
     },
     "inputWidgets": {},
     "nuid": "db31f2e5-6f73-4b4a-9735-48e5fb1a4cea",
     "showTitle": false,
     "title": ""
    }
   },
   "outputs": [],
   "source": [
    "# load table into spark dataframe\n",
    "cows_bff = spark.read.table(\"db.cows_bff\")"
   ]
  },
  {
   "attachments": {},
   "cell_type": "markdown",
   "metadata": {
    "application/vnd.databricks.v1+cell": {
     "cellMetadata": {
      "byteLimit": 2048000,
      "rowLimit": 10000
     },
     "inputWidgets": {},
     "nuid": "e077744e-aee4-462b-b53c-d34955da8e92",
     "showTitle": false,
     "title": ""
    }
   },
   "source": [
    "## Some graphs and charts"
   ]
  },
  {
   "cell_type": "code",
   "execution_count": 23,
   "metadata": {
    "application/vnd.databricks.v1+cell": {
     "cellMetadata": {
      "byteLimit": 2048000,
      "rowLimit": 10000
     },
     "inputWidgets": {},
     "nuid": "eafa5b74-fd93-418e-a855-c20aecd86ec0",
     "showTitle": false,
     "title": ""
    }
   },
   "outputs": [
    {
     "name": "stderr",
     "output_type": "stream",
     "text": [
      "/Users/taylor.isbell/miniconda3/envs/cows/lib/python3.10/site-packages/pyspark/sql/pandas/types.py:567: FutureWarning:\n",
      "\n",
      "is_datetime64tz_dtype is deprecated and will be removed in a future version. Check `isinstance(dtype, pd.DatetimeTZDtype)` instead.\n",
      "\n",
      "/Users/taylor.isbell/miniconda3/envs/cows/lib/python3.10/site-packages/pyspark/sql/pandas/types.py:386: FutureWarning:\n",
      "\n",
      "is_datetime64tz_dtype is deprecated and will be removed in a future version. Check `isinstance(dtype, pd.DatetimeTZDtype)` instead.\n",
      "\n"
     ]
    },
    {
     "data": {
      "text/html": [
       "<table border=\"1\" class=\"dataframe\">\n",
       "  <thead>\n",
       "    <tr style=\"text-align: right;\">\n",
       "      <th></th>\n",
       "      <th>cow_name</th>\n",
       "      <th>meal_start</th>\n",
       "      <th>meal_end</th>\n",
       "      <th>meal_start_time</th>\n",
       "      <th>meal_end_time</th>\n",
       "      <th>duration</th>\n",
       "      <th>date</th>\n",
       "      <th>day</th>\n",
       "    </tr>\n",
       "  </thead>\n",
       "  <tbody>\n",
       "    <tr>\n",
       "      <th>0</th>\n",
       "      <td>Butterscotch</td>\n",
       "      <td>32367</td>\n",
       "      <td>33187</td>\n",
       "      <td>8:59:27</td>\n",
       "      <td>9:13:07</td>\n",
       "      <td>820</td>\n",
       "      <td>2023-05-20</td>\n",
       "      <td>Saturday</td>\n",
       "    </tr>\n",
       "    <tr>\n",
       "      <th>1</th>\n",
       "      <td>Hershey</td>\n",
       "      <td>31991</td>\n",
       "      <td>32313</td>\n",
       "      <td>8:53:11</td>\n",
       "      <td>8:58:33</td>\n",
       "      <td>322</td>\n",
       "      <td>2023-05-20</td>\n",
       "      <td>Saturday</td>\n",
       "    </tr>\n",
       "    <tr>\n",
       "      <th>2</th>\n",
       "      <td>Mocha</td>\n",
       "      <td>33888</td>\n",
       "      <td>34577</td>\n",
       "      <td>9:24:48</td>\n",
       "      <td>9:36:17</td>\n",
       "      <td>689</td>\n",
       "      <td>2023-05-20</td>\n",
       "      <td>Saturday</td>\n",
       "    </tr>\n",
       "    <tr>\n",
       "      <th>3</th>\n",
       "      <td>Cocoa</td>\n",
       "      <td>33888</td>\n",
       "      <td>34577</td>\n",
       "      <td>9:24:48</td>\n",
       "      <td>9:36:17</td>\n",
       "      <td>689</td>\n",
       "      <td>2023-05-20</td>\n",
       "      <td>Saturday</td>\n",
       "    </tr>\n",
       "    <tr>\n",
       "      <th>4</th>\n",
       "      <td>Nutella</td>\n",
       "      <td>32601</td>\n",
       "      <td>33778</td>\n",
       "      <td>9:03:21</td>\n",
       "      <td>9:22:58</td>\n",
       "      <td>1177</td>\n",
       "      <td>2023-05-20</td>\n",
       "      <td>Saturday</td>\n",
       "    </tr>\n",
       "    <tr>\n",
       "      <th>5</th>\n",
       "      <td>Brandy</td>\n",
       "      <td>33139</td>\n",
       "      <td>34769</td>\n",
       "      <td>9:12:19</td>\n",
       "      <td>9:39:29</td>\n",
       "      <td>1630</td>\n",
       "      <td>2023-05-20</td>\n",
       "      <td>Saturday</td>\n",
       "    </tr>\n",
       "    <tr>\n",
       "      <th>6</th>\n",
       "      <td>Peaches</td>\n",
       "      <td>33483</td>\n",
       "      <td>34672</td>\n",
       "      <td>9:18:03</td>\n",
       "      <td>9:37:52</td>\n",
       "      <td>1189</td>\n",
       "      <td>2023-05-20</td>\n",
       "      <td>Saturday</td>\n",
       "    </tr>\n",
       "    <tr>\n",
       "      <th>7</th>\n",
       "      <td>Marshmallow</td>\n",
       "      <td>32401</td>\n",
       "      <td>34210</td>\n",
       "      <td>9:00:01</td>\n",
       "      <td>9:30:10</td>\n",
       "      <td>1809</td>\n",
       "      <td>2023-05-20</td>\n",
       "      <td>Saturday</td>\n",
       "    </tr>\n",
       "    <tr>\n",
       "      <th>8</th>\n",
       "      <td>Popcorn</td>\n",
       "      <td>33456</td>\n",
       "      <td>34638</td>\n",
       "      <td>9:17:36</td>\n",
       "      <td>9:37:18</td>\n",
       "      <td>1182</td>\n",
       "      <td>2023-05-20</td>\n",
       "      <td>Saturday</td>\n",
       "    </tr>\n",
       "    <tr>\n",
       "      <th>9</th>\n",
       "      <td>Muffin</td>\n",
       "      <td>31883</td>\n",
       "      <td>33037</td>\n",
       "      <td>8:51:23</td>\n",
       "      <td>9:10:37</td>\n",
       "      <td>1154</td>\n",
       "      <td>2023-05-20</td>\n",
       "      <td>Saturday</td>\n",
       "    </tr>\n",
       "  </tbody>\n",
       "</table>"
      ],
      "text/plain": [
       "DataFrame[cow_name: string, meal_start: bigint, meal_end: bigint, meal_start_time: string, meal_end_time: string, duration: bigint, date: timestamp, day: string]"
      ]
     },
     "metadata": {},
     "output_type": "display_data"
    }
   ],
   "source": [
    "display(cows_bff.limit(10))"
   ]
  },
  {
   "attachments": {},
   "cell_type": "markdown",
   "metadata": {
    "application/vnd.databricks.v1+cell": {
     "cellMetadata": {
      "byteLimit": 2048000,
      "rowLimit": 10000
     },
     "inputWidgets": {},
     "nuid": "a06f52cf-3601-4fa5-8041-bd1df249f2be",
     "showTitle": false,
     "title": ""
    }
   },
   "source": [
    "## Lets compute meal overlap"
   ]
  },
  {
   "cell_type": "code",
   "execution_count": 24,
   "metadata": {},
   "outputs": [
    {
     "data": {
      "text/html": [
       "<table border=\"1\" class=\"dataframe\">\n",
       "  <thead>\n",
       "    <tr style=\"text-align: right;\">\n",
       "      <th></th>\n",
       "      <th>cow1</th>\n",
       "      <th>cow2</th>\n",
       "      <th>distance</th>\n",
       "    </tr>\n",
       "  </thead>\n",
       "  <tbody>\n",
       "    <tr>\n",
       "      <th>0</th>\n",
       "      <td>Brandy</td>\n",
       "      <td>Buttercup</td>\n",
       "      <td>1325.076923</td>\n",
       "    </tr>\n",
       "    <tr>\n",
       "      <th>1</th>\n",
       "      <td>Brandy</td>\n",
       "      <td>Butterscotch</td>\n",
       "      <td>1198.076923</td>\n",
       "    </tr>\n",
       "    <tr>\n",
       "      <th>2</th>\n",
       "      <td>Brandy</td>\n",
       "      <td>Cocoa</td>\n",
       "      <td>1597.230769</td>\n",
       "    </tr>\n",
       "    <tr>\n",
       "      <th>3</th>\n",
       "      <td>Brandy</td>\n",
       "      <td>Daisy</td>\n",
       "      <td>1324.461538</td>\n",
       "    </tr>\n",
       "    <tr>\n",
       "      <th>4</th>\n",
       "      <td>Brandy</td>\n",
       "      <td>Dottie</td>\n",
       "      <td>1479.230769</td>\n",
       "    </tr>\n",
       "    <tr>\n",
       "      <th>5</th>\n",
       "      <td>Brandy</td>\n",
       "      <td>Hershey</td>\n",
       "      <td>1285.000000</td>\n",
       "    </tr>\n",
       "    <tr>\n",
       "      <th>6</th>\n",
       "      <td>Brandy</td>\n",
       "      <td>Magic</td>\n",
       "      <td>1450.692308</td>\n",
       "    </tr>\n",
       "    <tr>\n",
       "      <th>7</th>\n",
       "      <td>Brandy</td>\n",
       "      <td>Marshmallow</td>\n",
       "      <td>1250.076923</td>\n",
       "    </tr>\n",
       "    <tr>\n",
       "      <th>8</th>\n",
       "      <td>Brandy</td>\n",
       "      <td>Mocha</td>\n",
       "      <td>1597.230769</td>\n",
       "    </tr>\n",
       "    <tr>\n",
       "      <th>9</th>\n",
       "      <td>Brandy</td>\n",
       "      <td>Muffin</td>\n",
       "      <td>1056.769231</td>\n",
       "    </tr>\n",
       "  </tbody>\n",
       "</table>"
      ],
      "text/plain": [
       "DataFrame[cow1: string, cow2: string, distance: double]"
      ]
     },
     "metadata": {},
     "output_type": "display_data"
    }
   ],
   "source": [
    "from cow_bff.heatmap import compute_heatmap\n",
    "\n",
    "df = compute_heatmap(cows_bff)\n",
    "display(df.limit(10))"
   ]
  },
  {
   "attachments": {},
   "cell_type": "markdown",
   "metadata": {},
   "source": [
    "# Display Heatmap"
   ]
  },
  {
   "cell_type": "code",
   "execution_count": 25,
   "metadata": {},
   "outputs": [
    {
     "data": {
      "application/vnd.plotly.v1+json": {
       "config": {
        "plotlyServerURL": "https://plot.ly"
       },
       "data": [
        {
         "coloraxis": "coloraxis",
         "hovertemplate": "Cow 2: %{x}<br>Cow 1: %{y}<br>Distance: %{z}<extra></extra>",
         "name": "0",
         "type": "heatmap",
         "x": [
          "Brandy",
          "Buttercup",
          "Butterscotch",
          "Cocoa",
          "Daisy",
          "Dottie",
          "Hershey",
          "Magic",
          "Marshmallow",
          "Mocha",
          "Muffin",
          "Nellie",
          "Nutella",
          "Peaches",
          "Popcorn"
         ],
         "xaxis": "x",
         "y": [
          "Brandy",
          "Buttercup",
          "Butterscotch",
          "Cocoa",
          "Daisy",
          "Dottie",
          "Hershey",
          "Magic",
          "Marshmallow",
          "Mocha",
          "Muffin",
          "Nellie",
          "Nutella",
          "Peaches",
          "Popcorn"
         ],
         "yaxis": "y",
         "z": [
          [
           0,
           1325.076923076923,
           1198.076923076923,
           1597.2307692307693,
           1324.4615384615386,
           1479.2307692307693,
           1285,
           1450.6923076923076,
           1250.076923076923,
           1597.2307692307693,
           1056.7692307692307,
           1018.3076923076923,
           1704.4615384615386,
           1571.4615384615386,
           985.5384615384615
          ],
          [
           1325.076923076923,
           0,
           1547.7692307692307,
           1525,
           1208.5384615384614,
           1311.5384615384614,
           932.7692307692307,
           1361.076923076923,
           1198.2307692307693,
           1525,
           1119.7692307692307,
           1265.923076923077,
           1519.7692307692307,
           1811.6923076923076,
           999.1538461538462
          ],
          [
           1198.076923076923,
           1547.7692307692307,
           0,
           1442.5384615384614,
           857.4615384615385,
           1084.076923076923,
           1042.3846153846155,
           1479,
           1283.3076923076924,
           1442.5384615384614,
           1336.8461538461538,
           1316.923076923077,
           1458.7692307692307,
           1293.3846153846155,
           1012.0769230769231
          ],
          [
           1597.2307692307693,
           1525,
           1442.5384615384614,
           0,
           1513.3846153846155,
           1188.923076923077,
           1682.8461538461538,
           1859,
           1649.7692307692307,
           1407.6923076923076,
           1583.5384615384614,
           1232.1538461538462,
           1553.923076923077,
           1528.8461538461538,
           1514.923076923077
          ],
          [
           1324.4615384615386,
           1208.5384615384614,
           857.4615384615385,
           1513.3846153846155,
           0,
           1505.3076923076924,
           1242.1538461538462,
           1845.3846153846155,
           1356.3076923076924,
           1513.3846153846155,
           1499.923076923077,
           1385.6923076923076,
           1482.6923076923076,
           1553.8461538461538,
           1298.3076923076924
          ],
          [
           1479.2307692307693,
           1311.5384615384614,
           1084.076923076923,
           1188.923076923077,
           1505.3076923076924,
           0,
           1274.8461538461538,
           1406.3076923076924,
           1376.4615384615386,
           1188.923076923077,
           1105.3846153846155,
           1308.4615384615386,
           1638.3076923076924,
           1376.1538461538462,
           1247.6923076923076
          ],
          [
           1285,
           932.7692307692307,
           1042.3846153846155,
           1682.8461538461538,
           1242.1538461538462,
           1274.8461538461538,
           0,
           1687.6153846153845,
           1053.6153846153845,
           1682.8461538461538,
           1446,
           1091.1538461538462,
           1209.6923076923076,
           1171.7692307692307,
           823.1538461538462
          ],
          [
           1450.6923076923076,
           1361.076923076923,
           1479,
           1859,
           1845.3846153846155,
           1406.3076923076924,
           1687.6153846153845,
           0,
           1666.6153846153845,
           1859,
           1635.3076923076924,
           1864.3076923076924,
           1450,
           1898.8461538461538,
           1333.6153846153845
          ],
          [
           1250.076923076923,
           1198.2307692307693,
           1283.3076923076924,
           1649.7692307692307,
           1356.3076923076924,
           1376.4615384615386,
           1053.6153846153845,
           1666.6153846153845,
           0,
           1649.7692307692307,
           1584.4615384615386,
           1332.8461538461538,
           1588.4615384615386,
           1451,
           1294.6923076923076
          ],
          [
           1597.2307692307693,
           1525,
           1442.5384615384614,
           1407.6923076923076,
           1513.3846153846155,
           1188.923076923077,
           1682.8461538461538,
           1859,
           1649.7692307692307,
           0,
           1583.5384615384614,
           1232.1538461538462,
           1553.923076923077,
           1528.8461538461538,
           1514.923076923077
          ],
          [
           1056.7692307692307,
           1119.7692307692307,
           1336.8461538461538,
           1583.5384615384614,
           1499.923076923077,
           1105.3846153846155,
           1446,
           1635.3076923076924,
           1584.4615384615386,
           1583.5384615384614,
           0,
           1522.5384615384614,
           1580.6923076923076,
           1208.1538461538462,
           1209.5384615384614
          ],
          [
           1018.3076923076923,
           1265.923076923077,
           1316.923076923077,
           1232.1538461538462,
           1385.6923076923076,
           1308.4615384615386,
           1091.1538461538462,
           1864.3076923076924,
           1332.8461538461538,
           1232.1538461538462,
           1522.5384615384614,
           0,
           1381.2307692307693,
           1207.2307692307693,
           1080.7692307692307
          ],
          [
           1704.4615384615386,
           1519.7692307692307,
           1458.7692307692307,
           1553.923076923077,
           1482.6923076923076,
           1638.3076923076924,
           1209.6923076923076,
           1450,
           1588.4615384615386,
           1553.923076923077,
           1580.6923076923076,
           1381.2307692307693,
           0,
           1454.2307692307693,
           1737.1538461538462
          ],
          [
           1571.4615384615386,
           1811.6923076923076,
           1293.3846153846155,
           1528.8461538461538,
           1553.8461538461538,
           1376.1538461538462,
           1171.7692307692307,
           1898.8461538461538,
           1451,
           1528.8461538461538,
           1208.1538461538462,
           1207.2307692307693,
           1454.2307692307693,
           0,
           1510.6923076923076
          ],
          [
           985.5384615384615,
           999.1538461538462,
           1012.0769230769231,
           1514.923076923077,
           1298.3076923076924,
           1247.6923076923076,
           823.1538461538462,
           1333.6153846153845,
           1294.6923076923076,
           1514.923076923077,
           1209.5384615384614,
           1080.7692307692307,
           1737.1538461538462,
           1510.6923076923076,
           0
          ]
         ]
        }
       ],
       "layout": {
        "coloraxis": {
         "colorbar": {
          "title": {
           "text": "Distance"
          }
         },
         "colorscale": [
          [
           0,
           "rgb(246, 210, 169)"
          ],
          [
           0.16666666666666666,
           "rgb(245, 183, 142)"
          ],
          [
           0.3333333333333333,
           "rgb(241, 156, 124)"
          ],
          [
           0.5,
           "rgb(234, 129, 113)"
          ],
          [
           0.6666666666666666,
           "rgb(221, 104, 108)"
          ],
          [
           0.8333333333333334,
           "rgb(202, 82, 104)"
          ],
          [
           1,
           "rgb(177, 63, 100)"
          ]
         ]
        },
        "height": 500,
        "template": {
         "data": {
          "bar": [
           {
            "error_x": {
             "color": "#2a3f5f"
            },
            "error_y": {
             "color": "#2a3f5f"
            },
            "marker": {
             "line": {
              "color": "#E5ECF6",
              "width": 0.5
             },
             "pattern": {
              "fillmode": "overlay",
              "size": 10,
              "solidity": 0.2
             }
            },
            "type": "bar"
           }
          ],
          "barpolar": [
           {
            "marker": {
             "line": {
              "color": "#E5ECF6",
              "width": 0.5
             },
             "pattern": {
              "fillmode": "overlay",
              "size": 10,
              "solidity": 0.2
             }
            },
            "type": "barpolar"
           }
          ],
          "carpet": [
           {
            "aaxis": {
             "endlinecolor": "#2a3f5f",
             "gridcolor": "white",
             "linecolor": "white",
             "minorgridcolor": "white",
             "startlinecolor": "#2a3f5f"
            },
            "baxis": {
             "endlinecolor": "#2a3f5f",
             "gridcolor": "white",
             "linecolor": "white",
             "minorgridcolor": "white",
             "startlinecolor": "#2a3f5f"
            },
            "type": "carpet"
           }
          ],
          "choropleth": [
           {
            "colorbar": {
             "outlinewidth": 0,
             "ticks": ""
            },
            "type": "choropleth"
           }
          ],
          "contour": [
           {
            "colorbar": {
             "outlinewidth": 0,
             "ticks": ""
            },
            "colorscale": [
             [
              0,
              "#0d0887"
             ],
             [
              0.1111111111111111,
              "#46039f"
             ],
             [
              0.2222222222222222,
              "#7201a8"
             ],
             [
              0.3333333333333333,
              "#9c179e"
             ],
             [
              0.4444444444444444,
              "#bd3786"
             ],
             [
              0.5555555555555556,
              "#d8576b"
             ],
             [
              0.6666666666666666,
              "#ed7953"
             ],
             [
              0.7777777777777778,
              "#fb9f3a"
             ],
             [
              0.8888888888888888,
              "#fdca26"
             ],
             [
              1,
              "#f0f921"
             ]
            ],
            "type": "contour"
           }
          ],
          "contourcarpet": [
           {
            "colorbar": {
             "outlinewidth": 0,
             "ticks": ""
            },
            "type": "contourcarpet"
           }
          ],
          "heatmap": [
           {
            "colorbar": {
             "outlinewidth": 0,
             "ticks": ""
            },
            "colorscale": [
             [
              0,
              "#0d0887"
             ],
             [
              0.1111111111111111,
              "#46039f"
             ],
             [
              0.2222222222222222,
              "#7201a8"
             ],
             [
              0.3333333333333333,
              "#9c179e"
             ],
             [
              0.4444444444444444,
              "#bd3786"
             ],
             [
              0.5555555555555556,
              "#d8576b"
             ],
             [
              0.6666666666666666,
              "#ed7953"
             ],
             [
              0.7777777777777778,
              "#fb9f3a"
             ],
             [
              0.8888888888888888,
              "#fdca26"
             ],
             [
              1,
              "#f0f921"
             ]
            ],
            "type": "heatmap"
           }
          ],
          "heatmapgl": [
           {
            "colorbar": {
             "outlinewidth": 0,
             "ticks": ""
            },
            "colorscale": [
             [
              0,
              "#0d0887"
             ],
             [
              0.1111111111111111,
              "#46039f"
             ],
             [
              0.2222222222222222,
              "#7201a8"
             ],
             [
              0.3333333333333333,
              "#9c179e"
             ],
             [
              0.4444444444444444,
              "#bd3786"
             ],
             [
              0.5555555555555556,
              "#d8576b"
             ],
             [
              0.6666666666666666,
              "#ed7953"
             ],
             [
              0.7777777777777778,
              "#fb9f3a"
             ],
             [
              0.8888888888888888,
              "#fdca26"
             ],
             [
              1,
              "#f0f921"
             ]
            ],
            "type": "heatmapgl"
           }
          ],
          "histogram": [
           {
            "marker": {
             "pattern": {
              "fillmode": "overlay",
              "size": 10,
              "solidity": 0.2
             }
            },
            "type": "histogram"
           }
          ],
          "histogram2d": [
           {
            "colorbar": {
             "outlinewidth": 0,
             "ticks": ""
            },
            "colorscale": [
             [
              0,
              "#0d0887"
             ],
             [
              0.1111111111111111,
              "#46039f"
             ],
             [
              0.2222222222222222,
              "#7201a8"
             ],
             [
              0.3333333333333333,
              "#9c179e"
             ],
             [
              0.4444444444444444,
              "#bd3786"
             ],
             [
              0.5555555555555556,
              "#d8576b"
             ],
             [
              0.6666666666666666,
              "#ed7953"
             ],
             [
              0.7777777777777778,
              "#fb9f3a"
             ],
             [
              0.8888888888888888,
              "#fdca26"
             ],
             [
              1,
              "#f0f921"
             ]
            ],
            "type": "histogram2d"
           }
          ],
          "histogram2dcontour": [
           {
            "colorbar": {
             "outlinewidth": 0,
             "ticks": ""
            },
            "colorscale": [
             [
              0,
              "#0d0887"
             ],
             [
              0.1111111111111111,
              "#46039f"
             ],
             [
              0.2222222222222222,
              "#7201a8"
             ],
             [
              0.3333333333333333,
              "#9c179e"
             ],
             [
              0.4444444444444444,
              "#bd3786"
             ],
             [
              0.5555555555555556,
              "#d8576b"
             ],
             [
              0.6666666666666666,
              "#ed7953"
             ],
             [
              0.7777777777777778,
              "#fb9f3a"
             ],
             [
              0.8888888888888888,
              "#fdca26"
             ],
             [
              1,
              "#f0f921"
             ]
            ],
            "type": "histogram2dcontour"
           }
          ],
          "mesh3d": [
           {
            "colorbar": {
             "outlinewidth": 0,
             "ticks": ""
            },
            "type": "mesh3d"
           }
          ],
          "parcoords": [
           {
            "line": {
             "colorbar": {
              "outlinewidth": 0,
              "ticks": ""
             }
            },
            "type": "parcoords"
           }
          ],
          "pie": [
           {
            "automargin": true,
            "type": "pie"
           }
          ],
          "scatter": [
           {
            "fillpattern": {
             "fillmode": "overlay",
             "size": 10,
             "solidity": 0.2
            },
            "type": "scatter"
           }
          ],
          "scatter3d": [
           {
            "line": {
             "colorbar": {
              "outlinewidth": 0,
              "ticks": ""
             }
            },
            "marker": {
             "colorbar": {
              "outlinewidth": 0,
              "ticks": ""
             }
            },
            "type": "scatter3d"
           }
          ],
          "scattercarpet": [
           {
            "marker": {
             "colorbar": {
              "outlinewidth": 0,
              "ticks": ""
             }
            },
            "type": "scattercarpet"
           }
          ],
          "scattergeo": [
           {
            "marker": {
             "colorbar": {
              "outlinewidth": 0,
              "ticks": ""
             }
            },
            "type": "scattergeo"
           }
          ],
          "scattergl": [
           {
            "marker": {
             "colorbar": {
              "outlinewidth": 0,
              "ticks": ""
             }
            },
            "type": "scattergl"
           }
          ],
          "scattermapbox": [
           {
            "marker": {
             "colorbar": {
              "outlinewidth": 0,
              "ticks": ""
             }
            },
            "type": "scattermapbox"
           }
          ],
          "scatterpolar": [
           {
            "marker": {
             "colorbar": {
              "outlinewidth": 0,
              "ticks": ""
             }
            },
            "type": "scatterpolar"
           }
          ],
          "scatterpolargl": [
           {
            "marker": {
             "colorbar": {
              "outlinewidth": 0,
              "ticks": ""
             }
            },
            "type": "scatterpolargl"
           }
          ],
          "scatterternary": [
           {
            "marker": {
             "colorbar": {
              "outlinewidth": 0,
              "ticks": ""
             }
            },
            "type": "scatterternary"
           }
          ],
          "surface": [
           {
            "colorbar": {
             "outlinewidth": 0,
             "ticks": ""
            },
            "colorscale": [
             [
              0,
              "#0d0887"
             ],
             [
              0.1111111111111111,
              "#46039f"
             ],
             [
              0.2222222222222222,
              "#7201a8"
             ],
             [
              0.3333333333333333,
              "#9c179e"
             ],
             [
              0.4444444444444444,
              "#bd3786"
             ],
             [
              0.5555555555555556,
              "#d8576b"
             ],
             [
              0.6666666666666666,
              "#ed7953"
             ],
             [
              0.7777777777777778,
              "#fb9f3a"
             ],
             [
              0.8888888888888888,
              "#fdca26"
             ],
             [
              1,
              "#f0f921"
             ]
            ],
            "type": "surface"
           }
          ],
          "table": [
           {
            "cells": {
             "fill": {
              "color": "#EBF0F8"
             },
             "line": {
              "color": "white"
             }
            },
            "header": {
             "fill": {
              "color": "#C8D4E3"
             },
             "line": {
              "color": "white"
             }
            },
            "type": "table"
           }
          ]
         },
         "layout": {
          "annotationdefaults": {
           "arrowcolor": "#2a3f5f",
           "arrowhead": 0,
           "arrowwidth": 1
          },
          "autotypenumbers": "strict",
          "coloraxis": {
           "colorbar": {
            "outlinewidth": 0,
            "ticks": ""
           }
          },
          "colorscale": {
           "diverging": [
            [
             0,
             "#8e0152"
            ],
            [
             0.1,
             "#c51b7d"
            ],
            [
             0.2,
             "#de77ae"
            ],
            [
             0.3,
             "#f1b6da"
            ],
            [
             0.4,
             "#fde0ef"
            ],
            [
             0.5,
             "#f7f7f7"
            ],
            [
             0.6,
             "#e6f5d0"
            ],
            [
             0.7,
             "#b8e186"
            ],
            [
             0.8,
             "#7fbc41"
            ],
            [
             0.9,
             "#4d9221"
            ],
            [
             1,
             "#276419"
            ]
           ],
           "sequential": [
            [
             0,
             "#0d0887"
            ],
            [
             0.1111111111111111,
             "#46039f"
            ],
            [
             0.2222222222222222,
             "#7201a8"
            ],
            [
             0.3333333333333333,
             "#9c179e"
            ],
            [
             0.4444444444444444,
             "#bd3786"
            ],
            [
             0.5555555555555556,
             "#d8576b"
            ],
            [
             0.6666666666666666,
             "#ed7953"
            ],
            [
             0.7777777777777778,
             "#fb9f3a"
            ],
            [
             0.8888888888888888,
             "#fdca26"
            ],
            [
             1,
             "#f0f921"
            ]
           ],
           "sequentialminus": [
            [
             0,
             "#0d0887"
            ],
            [
             0.1111111111111111,
             "#46039f"
            ],
            [
             0.2222222222222222,
             "#7201a8"
            ],
            [
             0.3333333333333333,
             "#9c179e"
            ],
            [
             0.4444444444444444,
             "#bd3786"
            ],
            [
             0.5555555555555556,
             "#d8576b"
            ],
            [
             0.6666666666666666,
             "#ed7953"
            ],
            [
             0.7777777777777778,
             "#fb9f3a"
            ],
            [
             0.8888888888888888,
             "#fdca26"
            ],
            [
             1,
             "#f0f921"
            ]
           ]
          },
          "colorway": [
           "#636efa",
           "#EF553B",
           "#00cc96",
           "#ab63fa",
           "#FFA15A",
           "#19d3f3",
           "#FF6692",
           "#B6E880",
           "#FF97FF",
           "#FECB52"
          ],
          "font": {
           "color": "#2a3f5f"
          },
          "geo": {
           "bgcolor": "white",
           "lakecolor": "white",
           "landcolor": "#E5ECF6",
           "showlakes": true,
           "showland": true,
           "subunitcolor": "white"
          },
          "hoverlabel": {
           "align": "left"
          },
          "hovermode": "closest",
          "mapbox": {
           "style": "light"
          },
          "paper_bgcolor": "white",
          "plot_bgcolor": "#E5ECF6",
          "polar": {
           "angularaxis": {
            "gridcolor": "white",
            "linecolor": "white",
            "ticks": ""
           },
           "bgcolor": "#E5ECF6",
           "radialaxis": {
            "gridcolor": "white",
            "linecolor": "white",
            "ticks": ""
           }
          },
          "scene": {
           "xaxis": {
            "backgroundcolor": "#E5ECF6",
            "gridcolor": "white",
            "gridwidth": 2,
            "linecolor": "white",
            "showbackground": true,
            "ticks": "",
            "zerolinecolor": "white"
           },
           "yaxis": {
            "backgroundcolor": "#E5ECF6",
            "gridcolor": "white",
            "gridwidth": 2,
            "linecolor": "white",
            "showbackground": true,
            "ticks": "",
            "zerolinecolor": "white"
           },
           "zaxis": {
            "backgroundcolor": "#E5ECF6",
            "gridcolor": "white",
            "gridwidth": 2,
            "linecolor": "white",
            "showbackground": true,
            "ticks": "",
            "zerolinecolor": "white"
           }
          },
          "shapedefaults": {
           "line": {
            "color": "#2a3f5f"
           }
          },
          "ternary": {
           "aaxis": {
            "gridcolor": "white",
            "linecolor": "white",
            "ticks": ""
           },
           "baxis": {
            "gridcolor": "white",
            "linecolor": "white",
            "ticks": ""
           },
           "bgcolor": "#E5ECF6",
           "caxis": {
            "gridcolor": "white",
            "linecolor": "white",
            "ticks": ""
           }
          },
          "title": {
           "x": 0.05
          },
          "xaxis": {
           "automargin": true,
           "gridcolor": "white",
           "linecolor": "white",
           "ticks": "",
           "title": {
            "standoff": 15
           },
           "zerolinecolor": "white",
           "zerolinewidth": 2
          },
          "yaxis": {
           "automargin": true,
           "gridcolor": "white",
           "linecolor": "white",
           "ticks": "",
           "title": {
            "standoff": 15
           },
           "zerolinecolor": "white",
           "zerolinewidth": 2
          }
         }
        },
        "title": {
         "text": "Cow BFFs"
        },
        "width": 800,
        "xaxis": {
         "anchor": "y",
         "constrain": "domain",
         "domain": [
          0,
          1
         ],
         "scaleanchor": "y",
         "title": {
          "text": "Cow 2"
         }
        },
        "yaxis": {
         "anchor": "x",
         "autorange": "reversed",
         "constrain": "domain",
         "domain": [
          0,
          1
         ],
         "title": {
          "text": "Cow 1"
         }
        }
       }
      }
     },
     "metadata": {},
     "output_type": "display_data"
    }
   ],
   "source": [
    "pdf = df.toPandas()\n",
    "pdf = pdf.pivot(index='cow1', columns='cow2', values='distance').fillna(0)\n",
    "\n",
    "import plotly.express as px\n",
    "fig = px.imshow(pdf, x=pdf.columns, y=pdf.index, labels=dict(x=\"Cow 2\", y=\"Cow 1\", color=\"Distance\"), title=\"Cow BFFs\", color_continuous_scale='redor')\n",
    "px.imshow(pdf, x=pdf.columns, y=pdf.index, labels=dict(x=\"Cow 2\", y=\"Cow 1\", color=\"Distance\"),)\n",
    "\n",
    "fig.update_layout(width=800,height=500)\n",
    "fig.show()\n"
   ]
  }
 ],
 "metadata": {
  "application/vnd.databricks.v1+notebook": {
   "dashboards": [],
   "language": "python",
   "notebookMetadata": {
    "mostRecentlyExecutedCommandWithImplicitDF": {
     "commandId": 1024381266358228,
     "dataframes": [
      "_sqldf"
     ]
    },
    "pythonIndentUnit": 2
   },
   "notebookName": "Cow BFF",
   "widgets": {}
  },
  "kernelspec": {
   "display_name": ".venv",
   "language": "python",
   "name": "python3"
  },
  "language_info": {
   "codemirror_mode": {
    "name": "ipython",
    "version": 3
   },
   "file_extension": ".py",
   "mimetype": "text/x-python",
   "name": "python",
   "nbconvert_exporter": "python",
   "pygments_lexer": "ipython3",
   "version": "3.10.11"
  }
 },
 "nbformat": 4,
 "nbformat_minor": 0
}
