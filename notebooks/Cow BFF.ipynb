{
 "cells": [
  {
   "attachments": {},
   "cell_type": "markdown",
   "metadata": {
    "application/vnd.databricks.v1+cell": {
     "cellMetadata": {
      "byteLimit": 2048000,
      "rowLimit": 10000
     },
     "inputWidgets": {},
     "nuid": "1150ad03-d27d-41cd-9d3e-5d717b80a08e",
     "showTitle": false,
     "title": ""
    }
   },
   "source": [
    "## First we initialize our globals"
   ]
  },
  {
   "cell_type": "code",
   "execution_count": 31,
   "metadata": {},
   "outputs": [
    {
     "name": "stdout",
     "output_type": "stream",
     "text": [
      "The autoreload extension is already loaded. To reload it, use:\n",
      "  %reload_ext autoreload\n"
     ]
    }
   ],
   "source": [
    "%load_ext autoreload\n",
    "%autoreload 2"
   ]
  },
  {
   "cell_type": "code",
   "execution_count": 32,
   "metadata": {},
   "outputs": [],
   "source": [
    "# add project dir to python path\n",
    "try:\n",
    "    notebook_path = dbutils.notebook.entry_point.getDbutils().notebook().getContext().notebookPath().get()\n",
    "    import sys, os\n",
    "    sys.path.append(\"/Workspace\" + os.path.dirname(os.path.dirname(notebook_path)))\n",
    "except:\n",
    "    pass"
   ]
  },
  {
   "cell_type": "code",
   "execution_count": 33,
   "metadata": {
    "application/vnd.databricks.v1+cell": {
     "cellMetadata": {
      "byteLimit": 2048000,
      "rowLimit": 10000
     },
     "inputWidgets": {},
     "nuid": "db31f2e5-6f73-4b4a-9735-48e5fb1a4cea",
     "showTitle": false,
     "title": ""
    }
   },
   "outputs": [],
   "source": [
    "# load table into spark dataframe\n",
    "cows_bff = spark.read.table(\"db.cows_bff\")"
   ]
  },
  {
   "attachments": {},
   "cell_type": "markdown",
   "metadata": {
    "application/vnd.databricks.v1+cell": {
     "cellMetadata": {
      "byteLimit": 2048000,
      "rowLimit": 10000
     },
     "inputWidgets": {},
     "nuid": "e077744e-aee4-462b-b53c-d34955da8e92",
     "showTitle": false,
     "title": ""
    }
   },
   "source": [
    "## Some graphs and charts"
   ]
  },
  {
   "cell_type": "code",
   "execution_count": 34,
   "metadata": {
    "application/vnd.databricks.v1+cell": {
     "cellMetadata": {
      "byteLimit": 2048000,
      "rowLimit": 10000
     },
     "inputWidgets": {},
     "nuid": "eafa5b74-fd93-418e-a855-c20aecd86ec0",
     "showTitle": false,
     "title": ""
    }
   },
   "outputs": [
    {
     "name": "stderr",
     "output_type": "stream",
     "text": [
      "/Users/taylor.isbell/miniconda3/envs/cows/lib/python3.10/site-packages/pyspark/sql/pandas/types.py:567: FutureWarning:\n",
      "\n",
      "is_datetime64tz_dtype is deprecated and will be removed in a future version. Check `isinstance(dtype, pd.DatetimeTZDtype)` instead.\n",
      "\n",
      "/Users/taylor.isbell/miniconda3/envs/cows/lib/python3.10/site-packages/pyspark/sql/pandas/types.py:386: FutureWarning:\n",
      "\n",
      "is_datetime64tz_dtype is deprecated and will be removed in a future version. Check `isinstance(dtype, pd.DatetimeTZDtype)` instead.\n",
      "\n"
     ]
    },
    {
     "data": {
      "text/html": [
       "<table border=\"1\" class=\"dataframe\">\n",
       "  <thead>\n",
       "    <tr style=\"text-align: right;\">\n",
       "      <th></th>\n",
       "      <th>cow_name</th>\n",
       "      <th>meal_start</th>\n",
       "      <th>meal_end</th>\n",
       "      <th>meal_start_time</th>\n",
       "      <th>meal_end_time</th>\n",
       "      <th>duration</th>\n",
       "      <th>date</th>\n",
       "      <th>day</th>\n",
       "    </tr>\n",
       "  </thead>\n",
       "  <tbody>\n",
       "    <tr>\n",
       "      <th>0</th>\n",
       "      <td>Butterscotch</td>\n",
       "      <td>32367</td>\n",
       "      <td>33187</td>\n",
       "      <td>8:59:27</td>\n",
       "      <td>9:13:07</td>\n",
       "      <td>820</td>\n",
       "      <td>2023-05-20</td>\n",
       "      <td>Saturday</td>\n",
       "    </tr>\n",
       "    <tr>\n",
       "      <th>1</th>\n",
       "      <td>Hershey</td>\n",
       "      <td>31991</td>\n",
       "      <td>32313</td>\n",
       "      <td>8:53:11</td>\n",
       "      <td>8:58:33</td>\n",
       "      <td>322</td>\n",
       "      <td>2023-05-20</td>\n",
       "      <td>Saturday</td>\n",
       "    </tr>\n",
       "    <tr>\n",
       "      <th>2</th>\n",
       "      <td>Mocha</td>\n",
       "      <td>33888</td>\n",
       "      <td>34577</td>\n",
       "      <td>9:24:48</td>\n",
       "      <td>9:36:17</td>\n",
       "      <td>689</td>\n",
       "      <td>2023-05-20</td>\n",
       "      <td>Saturday</td>\n",
       "    </tr>\n",
       "    <tr>\n",
       "      <th>3</th>\n",
       "      <td>Cocoa</td>\n",
       "      <td>33888</td>\n",
       "      <td>34577</td>\n",
       "      <td>9:24:48</td>\n",
       "      <td>9:36:17</td>\n",
       "      <td>689</td>\n",
       "      <td>2023-05-20</td>\n",
       "      <td>Saturday</td>\n",
       "    </tr>\n",
       "    <tr>\n",
       "      <th>4</th>\n",
       "      <td>Nutella</td>\n",
       "      <td>32601</td>\n",
       "      <td>33778</td>\n",
       "      <td>9:03:21</td>\n",
       "      <td>9:22:58</td>\n",
       "      <td>1177</td>\n",
       "      <td>2023-05-20</td>\n",
       "      <td>Saturday</td>\n",
       "    </tr>\n",
       "    <tr>\n",
       "      <th>5</th>\n",
       "      <td>Brandy</td>\n",
       "      <td>33139</td>\n",
       "      <td>34769</td>\n",
       "      <td>9:12:19</td>\n",
       "      <td>9:39:29</td>\n",
       "      <td>1630</td>\n",
       "      <td>2023-05-20</td>\n",
       "      <td>Saturday</td>\n",
       "    </tr>\n",
       "    <tr>\n",
       "      <th>6</th>\n",
       "      <td>Peaches</td>\n",
       "      <td>33483</td>\n",
       "      <td>34672</td>\n",
       "      <td>9:18:03</td>\n",
       "      <td>9:37:52</td>\n",
       "      <td>1189</td>\n",
       "      <td>2023-05-20</td>\n",
       "      <td>Saturday</td>\n",
       "    </tr>\n",
       "    <tr>\n",
       "      <th>7</th>\n",
       "      <td>Marshmallow</td>\n",
       "      <td>32401</td>\n",
       "      <td>34210</td>\n",
       "      <td>9:00:01</td>\n",
       "      <td>9:30:10</td>\n",
       "      <td>1809</td>\n",
       "      <td>2023-05-20</td>\n",
       "      <td>Saturday</td>\n",
       "    </tr>\n",
       "    <tr>\n",
       "      <th>8</th>\n",
       "      <td>Popcorn</td>\n",
       "      <td>33456</td>\n",
       "      <td>34638</td>\n",
       "      <td>9:17:36</td>\n",
       "      <td>9:37:18</td>\n",
       "      <td>1182</td>\n",
       "      <td>2023-05-20</td>\n",
       "      <td>Saturday</td>\n",
       "    </tr>\n",
       "    <tr>\n",
       "      <th>9</th>\n",
       "      <td>Muffin</td>\n",
       "      <td>31883</td>\n",
       "      <td>33037</td>\n",
       "      <td>8:51:23</td>\n",
       "      <td>9:10:37</td>\n",
       "      <td>1154</td>\n",
       "      <td>2023-05-20</td>\n",
       "      <td>Saturday</td>\n",
       "    </tr>\n",
       "  </tbody>\n",
       "</table>"
      ],
      "text/plain": [
       "DataFrame[cow_name: string, meal_start: bigint, meal_end: bigint, meal_start_time: string, meal_end_time: string, duration: bigint, date: timestamp, day: string]"
      ]
     },
     "metadata": {},
     "output_type": "display_data"
    }
   ],
   "source": [
    "display(cows_bff.limit(10))"
   ]
  },
  {
   "attachments": {},
   "cell_type": "markdown",
   "metadata": {
    "application/vnd.databricks.v1+cell": {
     "cellMetadata": {
      "byteLimit": 2048000,
      "rowLimit": 10000
     },
     "inputWidgets": {},
     "nuid": "a06f52cf-3601-4fa5-8041-bd1df249f2be",
     "showTitle": false,
     "title": ""
    }
   },
   "source": [
    "## Lets compute meal overlap"
   ]
  },
  {
   "cell_type": "code",
   "execution_count": 35,
   "metadata": {},
   "outputs": [
    {
     "data": {
      "text/html": [
       "<table border=\"1\" class=\"dataframe\">\n",
       "  <thead>\n",
       "    <tr style=\"text-align: right;\">\n",
       "      <th></th>\n",
       "      <th>cow1</th>\n",
       "      <th>cow2</th>\n",
       "      <th>distance</th>\n",
       "    </tr>\n",
       "  </thead>\n",
       "  <tbody>\n",
       "    <tr>\n",
       "      <th>0</th>\n",
       "      <td>Brandy</td>\n",
       "      <td>Buttercup</td>\n",
       "      <td>514.615385</td>\n",
       "    </tr>\n",
       "    <tr>\n",
       "      <th>1</th>\n",
       "      <td>Brandy</td>\n",
       "      <td>Butterscotch</td>\n",
       "      <td>218.615385</td>\n",
       "    </tr>\n",
       "    <tr>\n",
       "      <th>2</th>\n",
       "      <td>Brandy</td>\n",
       "      <td>Cocoa</td>\n",
       "      <td>507.538462</td>\n",
       "    </tr>\n",
       "    <tr>\n",
       "      <th>3</th>\n",
       "      <td>Brandy</td>\n",
       "      <td>Daisy</td>\n",
       "      <td>322.846154</td>\n",
       "    </tr>\n",
       "    <tr>\n",
       "      <th>4</th>\n",
       "      <td>Brandy</td>\n",
       "      <td>Dottie</td>\n",
       "      <td>445.769231</td>\n",
       "    </tr>\n",
       "    <tr>\n",
       "      <th>5</th>\n",
       "      <td>Brandy</td>\n",
       "      <td>Hershey</td>\n",
       "      <td>301.615385</td>\n",
       "    </tr>\n",
       "    <tr>\n",
       "      <th>6</th>\n",
       "      <td>Brandy</td>\n",
       "      <td>Magic</td>\n",
       "      <td>592.307692</td>\n",
       "    </tr>\n",
       "    <tr>\n",
       "      <th>7</th>\n",
       "      <td>Brandy</td>\n",
       "      <td>Marshmallow</td>\n",
       "      <td>476.076923</td>\n",
       "    </tr>\n",
       "    <tr>\n",
       "      <th>8</th>\n",
       "      <td>Brandy</td>\n",
       "      <td>Mocha</td>\n",
       "      <td>507.538462</td>\n",
       "    </tr>\n",
       "    <tr>\n",
       "      <th>9</th>\n",
       "      <td>Brandy</td>\n",
       "      <td>Muffin</td>\n",
       "      <td>441.384615</td>\n",
       "    </tr>\n",
       "  </tbody>\n",
       "</table>"
      ],
      "text/plain": [
       "DataFrame[cow1: string, cow2: string, distance: double]"
      ]
     },
     "metadata": {},
     "output_type": "display_data"
    }
   ],
   "source": [
    "from cow_bff.heatmap import compute_heatmap\n",
    "\n",
    "df = compute_heatmap(cows_bff)\n",
    "display(df.limit(10))"
   ]
  },
  {
   "attachments": {},
   "cell_type": "markdown",
   "metadata": {},
   "source": [
    "# Display Heatmap"
   ]
  },
  {
   "cell_type": "code",
   "execution_count": 36,
   "metadata": {},
   "outputs": [
    {
     "data": {
      "application/vnd.plotly.v1+json": {
       "config": {
        "plotlyServerURL": "https://plot.ly"
       },
       "data": [
        {
         "coloraxis": "coloraxis",
         "hovertemplate": "Cow 2: %{x}<br>Cow 1: %{y}<br>Distance: %{z}<extra></extra>",
         "name": "0",
         "type": "heatmap",
         "x": [
          "Brandy",
          "Buttercup",
          "Butterscotch",
          "Cocoa",
          "Daisy",
          "Dottie",
          "Hershey",
          "Magic",
          "Marshmallow",
          "Mocha",
          "Muffin",
          "Nellie",
          "Nutella",
          "Peaches",
          "Popcorn"
         ],
         "xaxis": "x",
         "y": [
          "Brandy",
          "Buttercup",
          "Butterscotch",
          "Cocoa",
          "Daisy",
          "Dottie",
          "Hershey",
          "Magic",
          "Marshmallow",
          "Mocha",
          "Muffin",
          "Nellie",
          "Nutella",
          "Peaches",
          "Popcorn"
         ],
         "yaxis": "y",
         "z": [
          [
           0,
           514.6153846153846,
           218.6153846153846,
           507.53846153846155,
           322.84615384615387,
           445.7692307692308,
           301.61538461538464,
           592.3076923076923,
           476.0769230769231,
           507.53846153846155,
           441.38461538461536,
           314.84615384615387,
           535.6923076923077,
           517.6153846153846,
           324.84615384615387
          ],
          [
           514.6153846153846,
           0,
           282.2307692307692,
           414.7692307692308,
           461.15384615384613,
           618.8461538461538,
           223.84615384615384,
           738.1538461538462,
           626.6923076923077,
           414.7692307692308,
           504.6923076923077,
           242.69230769230768,
           400,
           406.38461538461536,
           438.15384615384613
          ],
          [
           218.6153846153846,
           282.2307692307692,
           0,
           431.6923076923077,
           358.61538461538464,
           415.38461538461536,
           385.53846153846155,
           475,
           403.0769230769231,
           431.6923076923077,
           387.6923076923077,
           368,
           458.38461538461536,
           535.3076923076923,
           278.0769230769231
          ],
          [
           507.53846153846155,
           414.7692307692308,
           431.6923076923077,
           0,
           653.7692307692307,
           430.46153846153845,
           539.5384615384615,
           743,
           606.6923076923077,
           1407.6923076923076,
           695.6153846153846,
           575,
           799.4615384615385,
           753.5384615384615,
           450.3076923076923
          ],
          [
           322.84615384615387,
           461.15384615384613,
           358.61538461538464,
           653.7692307692307,
           0,
           412.61538461538464,
           352.6923076923077,
           540.3846153846154,
           481,
           653.7692307692307,
           512.2307692307693,
           335.9230769230769,
           336.61538461538464,
           510.61538461538464,
           362.3076923076923
          ],
          [
           445.7692307692308,
           618.8461538461538,
           415.38461538461536,
           430.46153846153845,
           412.61538461538464,
           0,
           402,
           583.7692307692307,
           485.84615384615387,
           430.46153846153845,
           587.2307692307693,
           448.9230769230769,
           606.9230769230769,
           477.9230769230769,
           391.84615384615387
          ],
          [
           301.61538461538464,
           223.84615384615384,
           385.53846153846155,
           539.5384615384615,
           352.6923076923077,
           402,
           0,
           507.7692307692308,
           325.61538461538464,
           539.5384615384615,
           371.61538461538464,
           441,
           475.9230769230769,
           505.84615384615387,
           318.6923076923077
          ],
          [
           592.3076923076923,
           738.1538461538462,
           475,
           743,
           540.3846153846154,
           583.7692307692307,
           507.7692307692308,
           0,
           678.3076923076923,
           743,
           656.4615384615385,
           463.6923076923077,
           709.6923076923077,
           605.5384615384615,
           477.46153846153845
          ],
          [
           476.0769230769231,
           626.6923076923077,
           403.0769230769231,
           606.6923076923077,
           481,
           485.84615384615387,
           325.61538461538464,
           678.3076923076923,
           0,
           606.6923076923077,
           545.6153846153846,
           576.6923076923077,
           654.2307692307693,
           565.3846153846154,
           416
          ],
          [
           507.53846153846155,
           414.7692307692308,
           431.6923076923077,
           1407.6923076923076,
           653.7692307692307,
           430.46153846153845,
           539.5384615384615,
           743,
           606.6923076923077,
           0,
           695.6153846153846,
           575,
           799.4615384615385,
           753.5384615384615,
           450.3076923076923
          ],
          [
           441.38461538461536,
           504.6923076923077,
           387.6923076923077,
           695.6153846153846,
           512.2307692307693,
           587.2307692307693,
           371.61538461538464,
           656.4615384615385,
           545.6153846153846,
           695.6153846153846,
           0,
           628.3846153846154,
           606.0769230769231,
           507.0769230769231,
           458.46153846153845
          ],
          [
           314.84615384615387,
           242.69230769230768,
           368,
           575,
           335.9230769230769,
           448.9230769230769,
           441,
           463.6923076923077,
           576.6923076923077,
           575,
           628.3846153846154,
           0,
           734.7692307692307,
           479.46153846153845,
           376.2307692307692
          ],
          [
           535.6923076923077,
           400,
           458.38461538461536,
           799.4615384615385,
           336.61538461538464,
           606.9230769230769,
           475.9230769230769,
           709.6923076923077,
           654.2307692307693,
           799.4615384615385,
           606.0769230769231,
           734.7692307692307,
           0,
           605.5384615384615,
           466.46153846153845
          ],
          [
           517.6153846153846,
           406.38461538461536,
           535.3076923076923,
           753.5384615384615,
           510.61538461538464,
           477.9230769230769,
           505.84615384615387,
           605.5384615384615,
           565.3846153846154,
           753.5384615384615,
           507.0769230769231,
           479.46153846153845,
           605.5384615384615,
           0,
           501.3076923076923
          ],
          [
           324.84615384615387,
           438.15384615384613,
           278.0769230769231,
           450.3076923076923,
           362.3076923076923,
           391.84615384615387,
           318.6923076923077,
           477.46153846153845,
           416,
           450.3076923076923,
           458.46153846153845,
           376.2307692307692,
           466.46153846153845,
           501.3076923076923,
           0
          ]
         ]
        }
       ],
       "layout": {
        "coloraxis": {
         "colorbar": {
          "title": {
           "text": "Distance"
          }
         },
         "colorscale": [
          [
           0,
           "rgb(246, 210, 169)"
          ],
          [
           0.16666666666666666,
           "rgb(245, 183, 142)"
          ],
          [
           0.3333333333333333,
           "rgb(241, 156, 124)"
          ],
          [
           0.5,
           "rgb(234, 129, 113)"
          ],
          [
           0.6666666666666666,
           "rgb(221, 104, 108)"
          ],
          [
           0.8333333333333334,
           "rgb(202, 82, 104)"
          ],
          [
           1,
           "rgb(177, 63, 100)"
          ]
         ]
        },
        "height": 500,
        "template": {
         "data": {
          "bar": [
           {
            "error_x": {
             "color": "#2a3f5f"
            },
            "error_y": {
             "color": "#2a3f5f"
            },
            "marker": {
             "line": {
              "color": "#E5ECF6",
              "width": 0.5
             },
             "pattern": {
              "fillmode": "overlay",
              "size": 10,
              "solidity": 0.2
             }
            },
            "type": "bar"
           }
          ],
          "barpolar": [
           {
            "marker": {
             "line": {
              "color": "#E5ECF6",
              "width": 0.5
             },
             "pattern": {
              "fillmode": "overlay",
              "size": 10,
              "solidity": 0.2
             }
            },
            "type": "barpolar"
           }
          ],
          "carpet": [
           {
            "aaxis": {
             "endlinecolor": "#2a3f5f",
             "gridcolor": "white",
             "linecolor": "white",
             "minorgridcolor": "white",
             "startlinecolor": "#2a3f5f"
            },
            "baxis": {
             "endlinecolor": "#2a3f5f",
             "gridcolor": "white",
             "linecolor": "white",
             "minorgridcolor": "white",
             "startlinecolor": "#2a3f5f"
            },
            "type": "carpet"
           }
          ],
          "choropleth": [
           {
            "colorbar": {
             "outlinewidth": 0,
             "ticks": ""
            },
            "type": "choropleth"
           }
          ],
          "contour": [
           {
            "colorbar": {
             "outlinewidth": 0,
             "ticks": ""
            },
            "colorscale": [
             [
              0,
              "#0d0887"
             ],
             [
              0.1111111111111111,
              "#46039f"
             ],
             [
              0.2222222222222222,
              "#7201a8"
             ],
             [
              0.3333333333333333,
              "#9c179e"
             ],
             [
              0.4444444444444444,
              "#bd3786"
             ],
             [
              0.5555555555555556,
              "#d8576b"
             ],
             [
              0.6666666666666666,
              "#ed7953"
             ],
             [
              0.7777777777777778,
              "#fb9f3a"
             ],
             [
              0.8888888888888888,
              "#fdca26"
             ],
             [
              1,
              "#f0f921"
             ]
            ],
            "type": "contour"
           }
          ],
          "contourcarpet": [
           {
            "colorbar": {
             "outlinewidth": 0,
             "ticks": ""
            },
            "type": "contourcarpet"
           }
          ],
          "heatmap": [
           {
            "colorbar": {
             "outlinewidth": 0,
             "ticks": ""
            },
            "colorscale": [
             [
              0,
              "#0d0887"
             ],
             [
              0.1111111111111111,
              "#46039f"
             ],
             [
              0.2222222222222222,
              "#7201a8"
             ],
             [
              0.3333333333333333,
              "#9c179e"
             ],
             [
              0.4444444444444444,
              "#bd3786"
             ],
             [
              0.5555555555555556,
              "#d8576b"
             ],
             [
              0.6666666666666666,
              "#ed7953"
             ],
             [
              0.7777777777777778,
              "#fb9f3a"
             ],
             [
              0.8888888888888888,
              "#fdca26"
             ],
             [
              1,
              "#f0f921"
             ]
            ],
            "type": "heatmap"
           }
          ],
          "heatmapgl": [
           {
            "colorbar": {
             "outlinewidth": 0,
             "ticks": ""
            },
            "colorscale": [
             [
              0,
              "#0d0887"
             ],
             [
              0.1111111111111111,
              "#46039f"
             ],
             [
              0.2222222222222222,
              "#7201a8"
             ],
             [
              0.3333333333333333,
              "#9c179e"
             ],
             [
              0.4444444444444444,
              "#bd3786"
             ],
             [
              0.5555555555555556,
              "#d8576b"
             ],
             [
              0.6666666666666666,
              "#ed7953"
             ],
             [
              0.7777777777777778,
              "#fb9f3a"
             ],
             [
              0.8888888888888888,
              "#fdca26"
             ],
             [
              1,
              "#f0f921"
             ]
            ],
            "type": "heatmapgl"
           }
          ],
          "histogram": [
           {
            "marker": {
             "pattern": {
              "fillmode": "overlay",
              "size": 10,
              "solidity": 0.2
             }
            },
            "type": "histogram"
           }
          ],
          "histogram2d": [
           {
            "colorbar": {
             "outlinewidth": 0,
             "ticks": ""
            },
            "colorscale": [
             [
              0,
              "#0d0887"
             ],
             [
              0.1111111111111111,
              "#46039f"
             ],
             [
              0.2222222222222222,
              "#7201a8"
             ],
             [
              0.3333333333333333,
              "#9c179e"
             ],
             [
              0.4444444444444444,
              "#bd3786"
             ],
             [
              0.5555555555555556,
              "#d8576b"
             ],
             [
              0.6666666666666666,
              "#ed7953"
             ],
             [
              0.7777777777777778,
              "#fb9f3a"
             ],
             [
              0.8888888888888888,
              "#fdca26"
             ],
             [
              1,
              "#f0f921"
             ]
            ],
            "type": "histogram2d"
           }
          ],
          "histogram2dcontour": [
           {
            "colorbar": {
             "outlinewidth": 0,
             "ticks": ""
            },
            "colorscale": [
             [
              0,
              "#0d0887"
             ],
             [
              0.1111111111111111,
              "#46039f"
             ],
             [
              0.2222222222222222,
              "#7201a8"
             ],
             [
              0.3333333333333333,
              "#9c179e"
             ],
             [
              0.4444444444444444,
              "#bd3786"
             ],
             [
              0.5555555555555556,
              "#d8576b"
             ],
             [
              0.6666666666666666,
              "#ed7953"
             ],
             [
              0.7777777777777778,
              "#fb9f3a"
             ],
             [
              0.8888888888888888,
              "#fdca26"
             ],
             [
              1,
              "#f0f921"
             ]
            ],
            "type": "histogram2dcontour"
           }
          ],
          "mesh3d": [
           {
            "colorbar": {
             "outlinewidth": 0,
             "ticks": ""
            },
            "type": "mesh3d"
           }
          ],
          "parcoords": [
           {
            "line": {
             "colorbar": {
              "outlinewidth": 0,
              "ticks": ""
             }
            },
            "type": "parcoords"
           }
          ],
          "pie": [
           {
            "automargin": true,
            "type": "pie"
           }
          ],
          "scatter": [
           {
            "fillpattern": {
             "fillmode": "overlay",
             "size": 10,
             "solidity": 0.2
            },
            "type": "scatter"
           }
          ],
          "scatter3d": [
           {
            "line": {
             "colorbar": {
              "outlinewidth": 0,
              "ticks": ""
             }
            },
            "marker": {
             "colorbar": {
              "outlinewidth": 0,
              "ticks": ""
             }
            },
            "type": "scatter3d"
           }
          ],
          "scattercarpet": [
           {
            "marker": {
             "colorbar": {
              "outlinewidth": 0,
              "ticks": ""
             }
            },
            "type": "scattercarpet"
           }
          ],
          "scattergeo": [
           {
            "marker": {
             "colorbar": {
              "outlinewidth": 0,
              "ticks": ""
             }
            },
            "type": "scattergeo"
           }
          ],
          "scattergl": [
           {
            "marker": {
             "colorbar": {
              "outlinewidth": 0,
              "ticks": ""
             }
            },
            "type": "scattergl"
           }
          ],
          "scattermapbox": [
           {
            "marker": {
             "colorbar": {
              "outlinewidth": 0,
              "ticks": ""
             }
            },
            "type": "scattermapbox"
           }
          ],
          "scatterpolar": [
           {
            "marker": {
             "colorbar": {
              "outlinewidth": 0,
              "ticks": ""
             }
            },
            "type": "scatterpolar"
           }
          ],
          "scatterpolargl": [
           {
            "marker": {
             "colorbar": {
              "outlinewidth": 0,
              "ticks": ""
             }
            },
            "type": "scatterpolargl"
           }
          ],
          "scatterternary": [
           {
            "marker": {
             "colorbar": {
              "outlinewidth": 0,
              "ticks": ""
             }
            },
            "type": "scatterternary"
           }
          ],
          "surface": [
           {
            "colorbar": {
             "outlinewidth": 0,
             "ticks": ""
            },
            "colorscale": [
             [
              0,
              "#0d0887"
             ],
             [
              0.1111111111111111,
              "#46039f"
             ],
             [
              0.2222222222222222,
              "#7201a8"
             ],
             [
              0.3333333333333333,
              "#9c179e"
             ],
             [
              0.4444444444444444,
              "#bd3786"
             ],
             [
              0.5555555555555556,
              "#d8576b"
             ],
             [
              0.6666666666666666,
              "#ed7953"
             ],
             [
              0.7777777777777778,
              "#fb9f3a"
             ],
             [
              0.8888888888888888,
              "#fdca26"
             ],
             [
              1,
              "#f0f921"
             ]
            ],
            "type": "surface"
           }
          ],
          "table": [
           {
            "cells": {
             "fill": {
              "color": "#EBF0F8"
             },
             "line": {
              "color": "white"
             }
            },
            "header": {
             "fill": {
              "color": "#C8D4E3"
             },
             "line": {
              "color": "white"
             }
            },
            "type": "table"
           }
          ]
         },
         "layout": {
          "annotationdefaults": {
           "arrowcolor": "#2a3f5f",
           "arrowhead": 0,
           "arrowwidth": 1
          },
          "autotypenumbers": "strict",
          "coloraxis": {
           "colorbar": {
            "outlinewidth": 0,
            "ticks": ""
           }
          },
          "colorscale": {
           "diverging": [
            [
             0,
             "#8e0152"
            ],
            [
             0.1,
             "#c51b7d"
            ],
            [
             0.2,
             "#de77ae"
            ],
            [
             0.3,
             "#f1b6da"
            ],
            [
             0.4,
             "#fde0ef"
            ],
            [
             0.5,
             "#f7f7f7"
            ],
            [
             0.6,
             "#e6f5d0"
            ],
            [
             0.7,
             "#b8e186"
            ],
            [
             0.8,
             "#7fbc41"
            ],
            [
             0.9,
             "#4d9221"
            ],
            [
             1,
             "#276419"
            ]
           ],
           "sequential": [
            [
             0,
             "#0d0887"
            ],
            [
             0.1111111111111111,
             "#46039f"
            ],
            [
             0.2222222222222222,
             "#7201a8"
            ],
            [
             0.3333333333333333,
             "#9c179e"
            ],
            [
             0.4444444444444444,
             "#bd3786"
            ],
            [
             0.5555555555555556,
             "#d8576b"
            ],
            [
             0.6666666666666666,
             "#ed7953"
            ],
            [
             0.7777777777777778,
             "#fb9f3a"
            ],
            [
             0.8888888888888888,
             "#fdca26"
            ],
            [
             1,
             "#f0f921"
            ]
           ],
           "sequentialminus": [
            [
             0,
             "#0d0887"
            ],
            [
             0.1111111111111111,
             "#46039f"
            ],
            [
             0.2222222222222222,
             "#7201a8"
            ],
            [
             0.3333333333333333,
             "#9c179e"
            ],
            [
             0.4444444444444444,
             "#bd3786"
            ],
            [
             0.5555555555555556,
             "#d8576b"
            ],
            [
             0.6666666666666666,
             "#ed7953"
            ],
            [
             0.7777777777777778,
             "#fb9f3a"
            ],
            [
             0.8888888888888888,
             "#fdca26"
            ],
            [
             1,
             "#f0f921"
            ]
           ]
          },
          "colorway": [
           "#636efa",
           "#EF553B",
           "#00cc96",
           "#ab63fa",
           "#FFA15A",
           "#19d3f3",
           "#FF6692",
           "#B6E880",
           "#FF97FF",
           "#FECB52"
          ],
          "font": {
           "color": "#2a3f5f"
          },
          "geo": {
           "bgcolor": "white",
           "lakecolor": "white",
           "landcolor": "#E5ECF6",
           "showlakes": true,
           "showland": true,
           "subunitcolor": "white"
          },
          "hoverlabel": {
           "align": "left"
          },
          "hovermode": "closest",
          "mapbox": {
           "style": "light"
          },
          "paper_bgcolor": "white",
          "plot_bgcolor": "#E5ECF6",
          "polar": {
           "angularaxis": {
            "gridcolor": "white",
            "linecolor": "white",
            "ticks": ""
           },
           "bgcolor": "#E5ECF6",
           "radialaxis": {
            "gridcolor": "white",
            "linecolor": "white",
            "ticks": ""
           }
          },
          "scene": {
           "xaxis": {
            "backgroundcolor": "#E5ECF6",
            "gridcolor": "white",
            "gridwidth": 2,
            "linecolor": "white",
            "showbackground": true,
            "ticks": "",
            "zerolinecolor": "white"
           },
           "yaxis": {
            "backgroundcolor": "#E5ECF6",
            "gridcolor": "white",
            "gridwidth": 2,
            "linecolor": "white",
            "showbackground": true,
            "ticks": "",
            "zerolinecolor": "white"
           },
           "zaxis": {
            "backgroundcolor": "#E5ECF6",
            "gridcolor": "white",
            "gridwidth": 2,
            "linecolor": "white",
            "showbackground": true,
            "ticks": "",
            "zerolinecolor": "white"
           }
          },
          "shapedefaults": {
           "line": {
            "color": "#2a3f5f"
           }
          },
          "ternary": {
           "aaxis": {
            "gridcolor": "white",
            "linecolor": "white",
            "ticks": ""
           },
           "baxis": {
            "gridcolor": "white",
            "linecolor": "white",
            "ticks": ""
           },
           "bgcolor": "#E5ECF6",
           "caxis": {
            "gridcolor": "white",
            "linecolor": "white",
            "ticks": ""
           }
          },
          "title": {
           "x": 0.05
          },
          "xaxis": {
           "automargin": true,
           "gridcolor": "white",
           "linecolor": "white",
           "ticks": "",
           "title": {
            "standoff": 15
           },
           "zerolinecolor": "white",
           "zerolinewidth": 2
          },
          "yaxis": {
           "automargin": true,
           "gridcolor": "white",
           "linecolor": "white",
           "ticks": "",
           "title": {
            "standoff": 15
           },
           "zerolinecolor": "white",
           "zerolinewidth": 2
          }
         }
        },
        "title": {
         "text": "Cow BFFs"
        },
        "width": 800,
        "xaxis": {
         "anchor": "y",
         "constrain": "domain",
         "domain": [
          0,
          1
         ],
         "scaleanchor": "y",
         "title": {
          "text": "Cow 2"
         }
        },
        "yaxis": {
         "anchor": "x",
         "autorange": "reversed",
         "constrain": "domain",
         "domain": [
          0,
          1
         ],
         "title": {
          "text": "Cow 1"
         }
        }
       }
      }
     },
     "metadata": {},
     "output_type": "display_data"
    }
   ],
   "source": [
    "pdf = df.toPandas()\n",
    "pdf = pdf.pivot(index='cow1', columns='cow2', values='distance').fillna(0)\n",
    "\n",
    "import plotly.express as px\n",
    "fig = px.imshow(pdf, x=pdf.columns, y=pdf.index, labels=dict(x=\"Cow 2\", y=\"Cow 1\", color=\"Distance\"), title=\"Cow BFFs\", color_continuous_scale='redor')\n",
    "px.imshow(pdf, x=pdf.columns, y=pdf.index, labels=dict(x=\"Cow 2\", y=\"Cow 1\", color=\"Distance\"),)\n",
    "\n",
    "fig.update_layout(width=800,height=500)\n",
    "fig.show()\n"
   ]
  }
 ],
 "metadata": {
  "application/vnd.databricks.v1+notebook": {
   "dashboards": [],
   "language": "python",
   "notebookMetadata": {
    "mostRecentlyExecutedCommandWithImplicitDF": {
     "commandId": 1024381266358228,
     "dataframes": [
      "_sqldf"
     ]
    },
    "pythonIndentUnit": 2
   },
   "notebookName": "Cow BFF",
   "widgets": {}
  },
  "kernelspec": {
   "display_name": ".venv",
   "language": "python",
   "name": "python3"
  },
  "language_info": {
   "codemirror_mode": {
    "name": "ipython",
    "version": 3
   },
   "file_extension": ".py",
   "mimetype": "text/x-python",
   "name": "python",
   "nbconvert_exporter": "python",
   "pygments_lexer": "ipython3",
   "version": "3.10.11"
  }
 },
 "nbformat": 4,
 "nbformat_minor": 0
}
